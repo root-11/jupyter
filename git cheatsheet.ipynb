{
 "cells": [
  {
   "cell_type": "markdown",
   "metadata": {},
   "source": [
    "# Github cheat sheet"
   ]
  },
  {
   "cell_type": "markdown",
   "metadata": {},
   "source": [
    "## Create\n",
    "\n",
    "clone an existing repo\n",
    "\n",
    "`$ git clone git@github.com:root-11/jupyter.git`\n",
    "    \n",
    "create a new local repo\n",
    "\n",
    "`$ git init`"
   ]
  },
  {
   "cell_type": "markdown",
   "metadata": {},
   "source": [
    "## Local changes\n",
    "\n",
    "Changed files in your working directory\n",
    "\n",
    "`$ git status`\n",
    "\n",
    "Changes to tracked files\n",
    "\n",
    "`$ git diff`\n",
    "\n",
    "Add all current changes to the next commit\n",
    "\n",
    "`$ git add .`"
   ]
  },
  {
   "cell_type": "markdown",
   "metadata": {},
   "source": [
    "## Commit history\n",
    "\n",
    "Show all commits, starting with the newest\n",
    "\n",
    "`$git log`\n",
    "\n",
    "Show changes of time for a specific file\n",
    "\n",
    "`$git log -p <file>`\n",
    "\n",
    "Show who changed what and when\n",
    "\n",
    "`$git blame <file>`"
   ]
  },
  {
   "cell_type": "markdown",
   "metadata": {},
   "source": [
    "## Update and publish\n",
    "\n",
    "list all currently configured remotes\n",
    "\n",
    "`$git remote -v`\n",
    "\n",
    "Publish local changes on a remote\n",
    "\n",
    "`$git push <remote> <branch>`1\n",
    "\n",
    "Download all changes from <remote> and directly merge/integrate into HEAD.\n",
    "    \n",
    "`$git pull <remote> <branch>`"
   ]
  }
 ],
 "metadata": {
  "kernelspec": {
   "display_name": "Python 3",
   "language": "python",
   "name": "python3"
  },
  "language_info": {
   "codemirror_mode": {
    "name": "ipython",
    "version": 3
   },
   "file_extension": ".py",
   "mimetype": "text/x-python",
   "name": "python",
   "nbconvert_exporter": "python",
   "pygments_lexer": "ipython3",
   "version": "3.7.2"
  }
 },
 "nbformat": 4,
 "nbformat_minor": 2
}
